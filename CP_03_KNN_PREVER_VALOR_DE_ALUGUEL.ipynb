{
  "nbformat": 4,
  "nbformat_minor": 0,
  "metadata": {
    "colab": {
      "provenance": [],
      "authorship_tag": "ABX9TyON+ScqY7UBPlAVwqDuJq/E",
      "include_colab_link": true
    },
    "kernelspec": {
      "name": "python3",
      "display_name": "Python 3"
    },
    "language_info": {
      "name": "python"
    }
  },
  "cells": [
    {
      "cell_type": "markdown",
      "metadata": {
        "id": "view-in-github",
        "colab_type": "text"
      },
      "source": [
        "<a href=\"https://colab.research.google.com/github/viniciusramaral/deeplearning_prever_valor_aluguel/blob/main/CP_03_KNN_PREVER_VALOR_DE_ALUGUEL.ipynb\" target=\"_parent\"><img src=\"https://colab.research.google.com/assets/colab-badge.svg\" alt=\"Open In Colab\"/></a>"
      ]
    },
    {
      "cell_type": "code",
      "execution_count": 13,
      "metadata": {
        "id": "-nXw5eOoZrFZ"
      },
      "outputs": [],
      "source": [
        "import pandas as pd\n",
        "from sklearn.model_selection import train_test_split\n",
        "from sklearn.preprocessing import StandardScaler\n",
        "from sklearn.neighbors import KNeighborsRegressor\n",
        "from sklearn.metrics import mean_squared_error"
      ]
    },
    {
      "cell_type": "code",
      "source": [
        "# Carregando os dados e alterando o separador para ser reconhecido\n",
        "dados = pd.read_csv('aluguel.csv', sep=\";\")"
      ],
      "metadata": {
        "id": "qZ-QQTvLaTCt"
      },
      "execution_count": 14,
      "outputs": []
    },
    {
      "cell_type": "code",
      "source": [
        "# Codificando a cidade devido o modelo aceitar somente 0 e 1 para esses casos\n",
        "dados = pd.get_dummies(dados, columns=['cidade'])"
      ],
      "metadata": {
        "id": "DyhKgx2tbFnu"
      },
      "execution_count": 15,
      "outputs": []
    },
    {
      "cell_type": "code",
      "source": [
        "# Aqui separo a coluna que eu gostaria de fazer a predição do resto dos dados\n",
        "X = dados.drop('valor_total', axis=1)\n",
        "y = dados['valor_total']"
      ],
      "metadata": {
        "id": "LJDb6jZIapA8"
      },
      "execution_count": 16,
      "outputs": []
    },
    {
      "cell_type": "code",
      "source": [
        "# Dividir os dados em conjuntos de treinamento e teste\n",
        "X_train, X_test, y_train, y_test = train_test_split(X, y, test_size=0.2, random_state=42)\n"
      ],
      "metadata": {
        "id": "F7HAYubkax4T"
      },
      "execution_count": 17,
      "outputs": []
    },
    {
      "cell_type": "code",
      "source": [
        "# Normalizar os dados\n",
        "scaler = StandardScaler()\n",
        "X_train_scaled = scaler.fit_transform(X_train)\n",
        "X_test_scaled = scaler.transform(X_test)"
      ],
      "metadata": {
        "id": "FqtaPaPza5qo"
      },
      "execution_count": 18,
      "outputs": []
    },
    {
      "cell_type": "code",
      "source": [
        "from sklearn.model_selection import cross_val_score\n",
        "import numpy as np\n",
        "\n",
        "# Dicionário para armazenar os resultados da validação cruzada para cada valor de k\n",
        "k_scores = {}\n",
        "# Lista de valores de k que você quer testar\n",
        "k_values = [3, 5, 7, 9, 11]\n",
        "\n",
        "for k in k_values:\n",
        "    # Criar um modelo KNN com o valor de k atual\n",
        "    knn_model = KNeighborsRegressor(n_neighbors=k)\n",
        "\n",
        "    # Executar a validação cruzada k-fold\n",
        "    scores = cross_val_score(knn_model, X_train_scaled, y_train, cv=5, scoring='neg_mean_squared_error')\n",
        "\n",
        "    # Calcular a média dos scores\n",
        "    mean_score = np.mean(scores)\n",
        "\n",
        "    # Armazenar o score médio para o valor de k atual\n",
        "    k_scores[k] = mean_score\n",
        "\n",
        "# Encontrar o valor de k com o menor erro médio quadrático\n",
        "k = min(k_scores, key=k_scores.get)\n",
        "\n",
        "print(\"O melhor valor de k é: \", k)"
      ],
      "metadata": {
        "colab": {
          "base_uri": "https://localhost:8080/"
        },
        "id": "91LsLry9beeo",
        "outputId": "3b5541a3-cb06-40e4-87e4-2528ef99030c"
      },
      "execution_count": 24,
      "outputs": [
        {
          "output_type": "stream",
          "name": "stdout",
          "text": [
            "O melhor valor de k é:  11\n"
          ]
        }
      ]
    },
    {
      "cell_type": "code",
      "source": [
        "knn_model = KNeighborsRegressor(n_neighbors=k)\n",
        "knn_model.fit(X_train_scaled, y_train)"
      ],
      "metadata": {
        "colab": {
          "base_uri": "https://localhost:8080/",
          "height": 75
        },
        "id": "e6jAxaMmcJ_F",
        "outputId": "07a0e9ae-0ed3-4ec4-d258-24ff4e6a42cc"
      },
      "execution_count": 25,
      "outputs": [
        {
          "output_type": "execute_result",
          "data": {
            "text/plain": [
              "KNeighborsRegressor(n_neighbors=11)"
            ],
            "text/html": [
              "<style>#sk-container-id-1 {color: black;background-color: white;}#sk-container-id-1 pre{padding: 0;}#sk-container-id-1 div.sk-toggleable {background-color: white;}#sk-container-id-1 label.sk-toggleable__label {cursor: pointer;display: block;width: 100%;margin-bottom: 0;padding: 0.3em;box-sizing: border-box;text-align: center;}#sk-container-id-1 label.sk-toggleable__label-arrow:before {content: \"▸\";float: left;margin-right: 0.25em;color: #696969;}#sk-container-id-1 label.sk-toggleable__label-arrow:hover:before {color: black;}#sk-container-id-1 div.sk-estimator:hover label.sk-toggleable__label-arrow:before {color: black;}#sk-container-id-1 div.sk-toggleable__content {max-height: 0;max-width: 0;overflow: hidden;text-align: left;background-color: #f0f8ff;}#sk-container-id-1 div.sk-toggleable__content pre {margin: 0.2em;color: black;border-radius: 0.25em;background-color: #f0f8ff;}#sk-container-id-1 input.sk-toggleable__control:checked~div.sk-toggleable__content {max-height: 200px;max-width: 100%;overflow: auto;}#sk-container-id-1 input.sk-toggleable__control:checked~label.sk-toggleable__label-arrow:before {content: \"▾\";}#sk-container-id-1 div.sk-estimator input.sk-toggleable__control:checked~label.sk-toggleable__label {background-color: #d4ebff;}#sk-container-id-1 div.sk-label input.sk-toggleable__control:checked~label.sk-toggleable__label {background-color: #d4ebff;}#sk-container-id-1 input.sk-hidden--visually {border: 0;clip: rect(1px 1px 1px 1px);clip: rect(1px, 1px, 1px, 1px);height: 1px;margin: -1px;overflow: hidden;padding: 0;position: absolute;width: 1px;}#sk-container-id-1 div.sk-estimator {font-family: monospace;background-color: #f0f8ff;border: 1px dotted black;border-radius: 0.25em;box-sizing: border-box;margin-bottom: 0.5em;}#sk-container-id-1 div.sk-estimator:hover {background-color: #d4ebff;}#sk-container-id-1 div.sk-parallel-item::after {content: \"\";width: 100%;border-bottom: 1px solid gray;flex-grow: 1;}#sk-container-id-1 div.sk-label:hover label.sk-toggleable__label {background-color: #d4ebff;}#sk-container-id-1 div.sk-serial::before {content: \"\";position: absolute;border-left: 1px solid gray;box-sizing: border-box;top: 0;bottom: 0;left: 50%;z-index: 0;}#sk-container-id-1 div.sk-serial {display: flex;flex-direction: column;align-items: center;background-color: white;padding-right: 0.2em;padding-left: 0.2em;position: relative;}#sk-container-id-1 div.sk-item {position: relative;z-index: 1;}#sk-container-id-1 div.sk-parallel {display: flex;align-items: stretch;justify-content: center;background-color: white;position: relative;}#sk-container-id-1 div.sk-item::before, #sk-container-id-1 div.sk-parallel-item::before {content: \"\";position: absolute;border-left: 1px solid gray;box-sizing: border-box;top: 0;bottom: 0;left: 50%;z-index: -1;}#sk-container-id-1 div.sk-parallel-item {display: flex;flex-direction: column;z-index: 1;position: relative;background-color: white;}#sk-container-id-1 div.sk-parallel-item:first-child::after {align-self: flex-end;width: 50%;}#sk-container-id-1 div.sk-parallel-item:last-child::after {align-self: flex-start;width: 50%;}#sk-container-id-1 div.sk-parallel-item:only-child::after {width: 0;}#sk-container-id-1 div.sk-dashed-wrapped {border: 1px dashed gray;margin: 0 0.4em 0.5em 0.4em;box-sizing: border-box;padding-bottom: 0.4em;background-color: white;}#sk-container-id-1 div.sk-label label {font-family: monospace;font-weight: bold;display: inline-block;line-height: 1.2em;}#sk-container-id-1 div.sk-label-container {text-align: center;}#sk-container-id-1 div.sk-container {/* jupyter's `normalize.less` sets `[hidden] { display: none; }` but bootstrap.min.css set `[hidden] { display: none !important; }` so we also need the `!important` here to be able to override the default hidden behavior on the sphinx rendered scikit-learn.org. See: https://github.com/scikit-learn/scikit-learn/issues/21755 */display: inline-block !important;position: relative;}#sk-container-id-1 div.sk-text-repr-fallback {display: none;}</style><div id=\"sk-container-id-1\" class=\"sk-top-container\"><div class=\"sk-text-repr-fallback\"><pre>KNeighborsRegressor(n_neighbors=11)</pre><b>In a Jupyter environment, please rerun this cell to show the HTML representation or trust the notebook. <br />On GitHub, the HTML representation is unable to render, please try loading this page with nbviewer.org.</b></div><div class=\"sk-container\" hidden><div class=\"sk-item\"><div class=\"sk-estimator sk-toggleable\"><input class=\"sk-toggleable__control sk-hidden--visually\" id=\"sk-estimator-id-1\" type=\"checkbox\" checked><label for=\"sk-estimator-id-1\" class=\"sk-toggleable__label sk-toggleable__label-arrow\">KNeighborsRegressor</label><div class=\"sk-toggleable__content\"><pre>KNeighborsRegressor(n_neighbors=11)</pre></div></div></div></div></div>"
            ]
          },
          "metadata": {},
          "execution_count": 25
        }
      ]
    },
    {
      "cell_type": "code",
      "source": [
        "# Fazer previsões\n",
        "y_pred = knn_model.predict(X_test_scaled)\n",
        "\n"
      ],
      "metadata": {
        "id": "BTHSuLIUcODo"
      },
      "execution_count": 26,
      "outputs": []
    },
    {
      "cell_type": "code",
      "source": [
        "# Avaliar o modelo\n",
        "mse = mean_squared_error(y_test, y_pred)\n",
        "print(\"Erro médio quadrático:\", mse)"
      ],
      "metadata": {
        "colab": {
          "base_uri": "https://localhost:8080/"
        },
        "id": "9h3h3NQScPxx",
        "outputId": "3eeea462-3a37-41e1-e92a-d91cf5fd5063"
      },
      "execution_count": 27,
      "outputs": [
        {
          "output_type": "stream",
          "name": "stdout",
          "text": [
            "Erro médio quadrático: 608480.7213866663\n"
          ]
        }
      ]
    },
    {
      "cell_type": "code",
      "source": [
        "import random\n",
        "\n",
        "# Escolher cinco índices aleatórios do conjunto de teste\n",
        "random.seed(42)  # Para garantir a reprodutibilidade dos resultados\n",
        "indices_aleatorios = random.sample(range(len(X_test)), 5)\n",
        "\n",
        "# Selecionar os exemplos correspondentes aos índices aleatórios\n",
        "exemplos_aleatorios = X_test_scaled[indices_aleatorios]\n",
        "valores_reais = y_test.iloc[indices_aleatorios]\n",
        "\n",
        "# Fazer previsões para os exemplos aleatórios\n",
        "previsoes = knn_model.predict(exemplos_aleatorios)\n",
        "\n",
        "# Imprimir as previsões e os valores reais\n",
        "print(\"Comparação entre previsões e valores reais:\")\n",
        "for i, (previsao, valor_real) in enumerate(zip(previsoes, valores_reais)):\n",
        "    print(\"Exemplo\", i+1, \":\")\n",
        "    print(\"    Valor previsto:\", previsao)\n",
        "    print(\"    Valor real:\", valor_real)\n",
        "    print()  # Adiciona uma linha em branco entre as previsões"
      ],
      "metadata": {
        "colab": {
          "base_uri": "https://localhost:8080/"
        },
        "id": "-4ouL74bcZVR",
        "outputId": "853d4ba7-43e0-4077-cb12-c12473954918"
      },
      "execution_count": 29,
      "outputs": [
        {
          "output_type": "stream",
          "name": "stdout",
          "text": [
            "Comparação entre previsões e valores reais:\n",
            "Exemplo 1 :\n",
            "    Valor previsto: 7139.272727272727\n",
            "    Valor real: 6837\n",
            "\n",
            "Exemplo 2 :\n",
            "    Valor previsto: 1887.1818181818182\n",
            "    Valor real: 1507\n",
            "\n",
            "Exemplo 3 :\n",
            "    Valor previsto: 2040.4545454545455\n",
            "    Valor real: 2028\n",
            "\n",
            "Exemplo 4 :\n",
            "    Valor previsto: 4446.909090909091\n",
            "    Valor real: 4175\n",
            "\n",
            "Exemplo 5 :\n",
            "    Valor previsto: 7412.454545454545\n",
            "    Valor real: 6817\n",
            "\n"
          ]
        }
      ]
    },
    {
      "cell_type": "markdown",
      "source": [
        "Encontrei melhor acurácio com deep learning"
      ],
      "metadata": {
        "id": "RCPM4rP9cvhj"
      }
    }
  ]
}